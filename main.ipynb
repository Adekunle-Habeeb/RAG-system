{
 "cells": [
  {
   "cell_type": "code",
   "execution_count": 2,
   "metadata": {
    "scrolled": true
   },
   "outputs": [],
   "source": [
    "from langchain.llms import GooglePalm\n",
    "\n",
    "api_key = \"\"\n",
    "\n",
    "llm = GooglePalm(google_api_key=api_key, temperature=0.7)"
   ]
  },
  {
   "cell_type": "code",
   "execution_count": 3,
   "metadata": {},
   "outputs": [],
   "source": [
    "# !pip install --upgrade langchain"
   ]
  },
  {
   "cell_type": "code",
   "execution_count": 4,
   "metadata": {},
   "outputs": [
    {
     "name": "stderr",
     "output_type": "stream",
     "text": [
      "C:\\Users\\Adekunle Habeeb\\anaconda3\\Lib\\site-packages\\langchain_core\\_api\\deprecation.py:139: LangChainDeprecationWarning: The method `BaseLLM.__call__` was deprecated in langchain-core 0.1.7 and will be removed in 0.3.0. Use invoke instead.\n",
      "  warn_deprecated(\n"
     ]
    },
    {
     "name": "stdout",
     "output_type": "stream",
     "text": [
      "* Football is my life,\n",
      "* I play it every day,\n",
      "* It brings me so much joy,\n",
      "* I'll never give it up.\n"
     ]
    }
   ],
   "source": [
    "poem = llm(\"write a 4 line poem of my love for football\")\n",
    "print(poem)"
   ]
  },
  {
   "cell_type": "code",
   "execution_count": 5,
   "metadata": {},
   "outputs": [
    {
     "name": "stdout",
     "output_type": "stream",
     "text": [
      "Dear [Hiring Manager name],\n",
      "\n",
      "I am writing to express my interest in the Machine Learning Engineer position at [Company name] in Austria. I have been working in the field of machine learning for the past 5 years, and I have a strong track record of success in developing and implementing machine learning models that solve real-world problems.\n",
      "\n",
      "In my previous role at [Previous company name], I was responsible for developing and maintaining a variety of machine learning models, including a recommender system that improved the company's sales by 15%, a fraud detection system that reduced the company's losses by 20%, and a predictive maintenance system that saved the company $1 million per year. I am also an active member of the machine learning community, and I have published several papers in top academic conferences and journals.\n",
      "\n",
      "I am confident that I have the skills and experience that you are looking for in a Machine Learning Engineer. I am a highly motivated and results-oriented individual with a strong work ethic. I am also a team player and I am eager to learn new things.\n",
      "\n",
      "I am eager to learn more about the Machine Learning Engineer position at [Company name] and how my skills and experience can contribute to your team. I am available for an interview at your earliest convenience.\n",
      "\n",
      "Thank you for your time and consideration.\n",
      "\n",
      "Sincerely,\n",
      "[Your name]\n"
     ]
    }
   ],
   "source": [
    "email = llm(\"write an email to a tech company in austria applying for a job role in machine learning\")\n",
    "print(email)"
   ]
  },
  {
   "cell_type": "code",
   "execution_count": 6,
   "metadata": {},
   "outputs": [],
   "source": [
    "from langchain.document_loaders.csv_loader import CSVLoader\n",
    "\n",
    "loader = CSVLoader(file_path='about_habeeb.csv', source_column='Question')\n",
    "data = loader.load()"
   ]
  },
  {
   "cell_type": "code",
   "execution_count": 7,
   "metadata": {},
   "outputs": [
    {
     "data": {
      "text/plain": [
       "[Document(metadata={'source': 'Who is Habeeb Adekunle?', 'row': 0}, page_content='Question: Who is Habeeb Adekunle?\\nAnswer: Habeeb Adekunle is an AI engineer with 2 years of experience and expertise in backend development, data science, and machine learning. He is proficient in Python for data science and machine learning, as well as in JavaScript and TypeScript for backend development. Habeeb enjoys writing code and exploring various fields in the tech space. When not writing code, Habeeb engages in outdoor activities like swimming and playing football.'),\n",
       " Document(metadata={'source': 'What is Habeeb educational background?', 'row': 1}, page_content='Question: What is Habeeb educational background?\\nAnswer: Habeeb Adekunle is currently pursuing his degree in Marine Science at the University of Lagos, Nigeria. He aims to leverage his knowledge of data science and machine learning to advance the field of marine science. Habeeb has already developed a temperature prediction app that forecasts the temperature of a city based on various factors. In the future, he aims to provide viable solutions to the problems of climate change with the help of AI.'),\n",
       " Document(metadata={'source': 'What is Habeeb work experience?', 'row': 2}, page_content='Question: What is Habeeb work experience?\\nAnswer: Habeeb Adekunle has diverse experience in backend development and machine learning. As a Freelance Backend Software Engineer, he led the development of a Project Management Software that integrated Kanban methodology, Gantt charts, and automated invoicing/budgeting, boosting software functionality by 30%. At NITDA IT Hub, he optimized a chat application for ISL Unilag, increasing user engagement by 15%. and reducing latency by 10%. He is also part of the NITDA IT Hub AI research team, where he collaborates on developing a food price prediction model for prices in Nigeria. During his internship at Intrapair, Habeeb was involved in the Flip Educational Assessment Platform, benefiting over 500 secondary school students. Currently, he holds the position of Backend Engineer and Machine Learning Engineer at Peerhub Ltd, a company based in Canada.'),\n",
       " Document(metadata={'source': 'What technologies are Habeeb proficient in?', 'row': 3}, page_content='Question: What technologies are Habeeb proficient in?\\nAnswer: Habeeb is proficient in several technologies, including HTML/CSS/JS for web development, Node.js/Express.js and NestJS for backend development, MongoDB, MySQL, and PostgreSQL for databases, Git/GitHub for version control, AWS and GCP for deployment. In the field of AI, he is skilled in Python and uses SQL, Pandas, Matplotlib, NumPy, and Seaborn for data analysis. For model building, he utilizes TensorFlow and Keras. Langchain, Huggingface, Streamlit, google palm and gpt models'),\n",
       " Document(metadata={'source': 'What are Habeeb Projects in machine learning?', 'row': 4}, page_content='Question: What are Habeeb Projects in machine learning?\\nAnswer: Habeeb has worked on several projects in machine learning. In addition to building a temperature prediction app, he developed a model that classifies images of tech giants (Elon Musk, Jeff Bezos, Mark Zuckerberg, Jack Ma, and Larry Page). He also created a potato disease classification app. Additionally, he built a RAG system capable of engaging in conversation with users.'),\n",
       " Document(metadata={'source': 'What languages can Habeeb Adekunle speak?', 'row': 5}, page_content='Question: What languages can Habeeb Adekunle speak?\\nAnswer: Habeeb Adekunle speaks English and Arabic.'),\n",
       " Document(metadata={'source': 'What certifications does Habeeb Adekunle hold?', 'row': 6}, page_content='Question: What certifications does Habeeb Adekunle hold?\\nAnswer: Habeeb holds certifications in AWS with JavaScript and Node.js from Udemy, and in Data Science and Machine Learning from Udemy.'),\n",
       " Document(metadata={'source': 'What soft skills does Habeeb Adekunle possess?', 'row': 7}, page_content='Question: What soft skills does Habeeb Adekunle possess?\\nAnswer: Communication, Attention details and time management'),\n",
       " Document(metadata={'source': 'What are the main features of the temperature prediction model built by Habeeb?', 'row': 8}, page_content='Question: What are the main features of the temperature prediction model built by Habeeb?\\nAnswer: The temperature prediction model predicts temperature for global cities according to month and year, using embeddings for city names stored in a columns.json file. Habeeb optimized it using GridSearchCV to find the best model, achieving a score of 97% accuracy with a decision tree model. The model utilizes historical temperature data from global cities spanning from 1850 to 2013, enabling accurate predictions based on specific months and years.')]"
      ]
     },
     "execution_count": 7,
     "metadata": {},
     "output_type": "execute_result"
    }
   ],
   "source": [
    "data"
   ]
  },
  {
   "cell_type": "code",
   "execution_count": 19,
   "metadata": {
    "scrolled": true
   },
   "outputs": [
    {
     "name": "stdout",
     "output_type": "stream",
     "text": [
      "load INSTRUCTOR_Transformer\n",
      "max_seq_length  512\n"
     ]
    }
   ],
   "source": [
    "from langchain_community.embeddings import HuggingFaceInstructEmbeddings\n",
    "from langchain.vectorstores import FAISS\n",
    "\n",
    "\n",
    "instructor_embeddings = HuggingFaceInstructEmbeddings()\n",
    "vectordb = FAISS.from_documents(documents=data, embedding=instructor_embeddings)"
   ]
  },
  {
   "cell_type": "code",
   "execution_count": 23,
   "metadata": {},
   "outputs": [
    {
     "data": {
      "text/plain": [
       "[Document(metadata={'source': 'What are the main features of the temperature prediction model built by Habeeb?', 'row': 8}, page_content='Question: What are the main features of the temperature prediction model built by Habeeb?\\nAnswer: The temperature prediction model predicts temperature for global cities according to month and year, using embeddings for city names stored in a columns.json file. Habeeb optimized it using GridSearchCV to find the best model, achieving a score of 97% accuracy with a decision tree model. The model utilizes historical temperature data from global cities spanning from 1850 to 2013, enabling accurate predictions based on specific months and years.'),\n",
       " Document(metadata={'source': 'What are Habeeb Projects in machine learning?', 'row': 4}, page_content='Question: What are Habeeb Projects in machine learning?\\nAnswer: Habeeb has worked on several projects in machine learning. In addition to building a temperature prediction app, he developed a model that classifies images of tech giants (Elon Musk, Jeff Bezos, Mark Zuckerberg, Jack Ma, and Larry Page). He also created a potato disease classification app. Additionally, he built a RAG system capable of engaging in conversation with users.'),\n",
       " Document(metadata={'source': 'What is Habeeb educational background?', 'row': 1}, page_content='Question: What is Habeeb educational background?\\nAnswer: Habeeb Adekunle is currently pursuing his degree in Marine Science at the University of Lagos, Nigeria. He aims to leverage his knowledge of data science and machine learning to advance the field of marine science. Habeeb has already developed a temperature prediction app that forecasts the temperature of a city based on various factors. In the future, he aims to provide viable solutions to the problems of climate change with the help of AI.'),\n",
       " Document(metadata={'source': 'What technologies are Habeeb proficient in?', 'row': 3}, page_content='Question: What technologies are Habeeb proficient in?\\nAnswer: Habeeb is proficient in several technologies, including HTML/CSS/JS for web development, Node.js/Express.js and NestJS for backend development, MongoDB, MySQL, and PostgreSQL for databases, Git/GitHub for version control, AWS and GCP for deployment. In the field of AI, he is skilled in Python and uses SQL, Pandas, Matplotlib, NumPy, and Seaborn for data analysis. For model building, he utilizes TensorFlow and Keras. Langchain, Huggingface, Streamlit, google palm and gpt models')]"
      ]
     },
     "execution_count": 23,
     "metadata": {},
     "output_type": "execute_result"
    }
   ],
   "source": [
    "retriever = vectordb.as_retriever()\n",
    "rdata = retriever.get_relevant_documents('What are the features of the temperature prediction model?')\n",
    "rdata"
   ]
  },
  {
   "cell_type": "code",
   "execution_count": 13,
   "metadata": {},
   "outputs": [
    {
     "name": "stdout",
     "output_type": "stream",
     "text": [
      "[-0.0025943743530660868, -0.009194064885377884, -0.0226585790514946, 0.004368053749203682, 0.061748843640089035, 0.04707319289445877, -0.015425052493810654, -0.0011346363462507725, -0.02319793775677681, 0.041508082300424576, 0.03942780941724777, 0.016652675345540047, 0.010904762893915176, 0.02725948952138424, -0.034640878438949585, 0.00861033983528614, -0.04247409105300903, 0.00971189420670271, -0.04555065929889679, 0.0023877620697021484, 0.034837499260902405, 0.027763407677412033, -0.0036897719837725163, 0.05497417598962784, 0.0346386656165123, 0.04205275699496269, -0.008172988891601562, 0.02423996292054653, 0.06218346953392029, -0.05335628613829613, 0.01627844199538231, -0.029738299548625946, -0.027562187984585762, -0.01855180226266384, -0.03614387288689613, -0.004616680555045605, 0.012600078247487545, 0.030808471143245697, 0.03459581732749939, 0.04439759999513626, -0.03847132623195648, 0.043745700269937515, 0.025875547900795937, -0.05802968889474869, 0.010301034897565842, -0.005665348842740059, -0.0667089968919754, -0.033960435539484024, 0.03696342930197716, -0.05166101083159447, -0.08277535438537598, -0.053100939840078354, -0.05283141881227493, -0.00820428691804409, 0.02723986655473709, -0.018483811989426613, -0.035770233720541, -0.0017307203961536288, 0.04128080978989601, -0.10089448094367981, -0.03047373704612255, -0.007988412864506245, -0.07610774785280228, 0.010230683721601963, 0.03326471149921417, -0.05180424079298973, 0.04938601329922676, -0.03418829292058945, 0.04313412308692932, -0.03144841641187668, 0.04931887984275818, -0.02101747691631317, 0.027857298031449318, -0.04579618200659752, -0.006386165972799063, -0.026209630072116852, 0.028193507343530655, 0.07526377588510513, -0.03367449715733528, 0.06687599420547485, -0.020201891660690308, -0.005317606497555971, 0.06093575060367584, -0.04327907785773277, -0.038658611476421356, 0.018046975135803223, -0.06296344846487045, 0.04053657129406929, 0.02258385345339775, 0.046512749046087265, -0.04440675675868988, -0.046629421412944794, 0.0069059631787240505, -0.010014232248067856, -0.012741844169795513, 0.011720169335603714, -0.004122696816921234, -0.039260078221559525, 0.007884670980274677, 0.017109794542193413, 0.04271979629993439, 0.02223256416618824, -0.05431266874074936, 0.04849071800708771, 0.03287329152226448, 0.03577440604567528, 0.018907876685261726, -0.042484477162361145, -0.02113092876970768, -0.006988572422415018, -0.019078457728028297, -0.02281773090362549, -0.015238799154758453, 0.019820168614387512, 0.01227274164557457, 0.036547381430864334, 0.037373729050159454, -0.04835155978798866, -0.047928355634212494, 0.009003283455967903, 0.008473493158817291, 0.030461721122264862, 0.00041562688420526683, -0.05843941494822502, -0.022343771532177925, 0.003031067317351699, -0.038615528494119644, -0.023873167112469673, -0.02777068130671978, -0.0069443038664758205, 0.018880560994148254, 0.053214166313409805, 0.021827222779393196, -0.06438232213258743, -0.021570492535829544, 0.009447339922189713, -0.021473364904522896, 0.00777861662209034, -0.0014137134421616793, 0.08012214303016663, -0.05926962569355965, -0.008931160904467106, -0.02606944739818573, 0.01195582002401352, -0.019606078043580055, 0.020469285547733307, 0.04608677327632904, -0.03294023498892784, -0.03383844345808029, -0.015309318900108337, 0.05565991252660751, -0.05195372924208641, -0.01886560022830963, 0.05547770857810974, -0.0018918135901913047, 0.04524621739983559, -0.04309143126010895, 0.02530653402209282, 0.00611748406663537, 0.029718555510044098, -0.048495348542928696, 0.053825460374355316, -0.03089228644967079, -0.02452358976006508, -0.04721885174512863, -0.016438370570540428, -0.010706298053264618, 0.06617369502782822, -0.00340665434487164, -0.03421611711382866, -0.07662349939346313, 0.027479378506541252, 0.05845086649060249, 0.009722143411636353, -0.04527319222688675, 0.009155171923339367, 0.06010907143354416, 0.0028540478087961674, -0.023391181603074074, 0.03624877333641052, 0.0007336448761634529, -0.04101944714784622, -0.03383973613381386, 0.018288956955075264, 0.045620668679475784, -0.016110233962535858, 0.01205920148640871, -0.007709223311394453, 0.04771744832396507, 0.004035391379147768, -0.05299855023622513, 0.0663738027215004, -0.03477602079510689, 0.004846957977861166, 0.01785772666335106, -0.009799294173717499, -0.04574436694383621, 0.02582918480038643, -0.013037247583270073, 0.012061857618391514, -0.037702761590480804, 0.0076203132048249245, 0.04563494399189949, 0.013927053660154343, 0.014146704226732254, 0.03756219148635864, 0.005110458936542273, 0.09675943106412888, -0.03674789145588875, 0.002648605965077877, -0.06792505830526352, -0.03385883569717407, 0.030458448454737663, 0.022772887721657753, 0.06045473739504814, 0.034198638051748276, -0.015755267813801765, -0.053719278424978256, 0.06836707144975662, 0.046016495674848557, 0.010803221724927425, 0.03342630714178085, -0.028439220041036606, -0.009592929854989052, 0.03210525959730148, 0.021271836012601852, -0.06287071853876114, -0.021103618666529655, 0.02115192450582981, 0.028016885742545128, -0.01598643884062767, 0.019615372642874718, 0.0003307732113171369, 0.03866187110543251, -0.042592596262693405, -0.0859738439321518, 0.07293865084648132, 0.05796574801206589, -0.005968298297375441, 0.029226334765553474, -0.019248727709054947, 0.028220757842063904, 0.02543473057448864, 0.0027052010409533978, 0.0011271777329966426, -0.037492331117391586, 0.016060231253504753, -0.03748852387070656, 0.09547518938779831, -0.05557199567556381, 0.03617814928293228, -0.022962460294365883, 0.014272057451307774, -0.014361878857016563, -0.027247076854109764, 0.056642305105924606, 0.07870560884475708, -0.018018940463662148, -0.02583921141922474, 0.024251416325569153, 0.010366410948336124, 0.0328843928873539, 0.05208456143736839, -0.0165771022439003, 0.09954831004142761, -0.009969037026166916, 0.05068553239107132, 0.01699969358742237, 0.01497779879719019, -0.005051760468631983, 0.03906914219260216, 0.04856722801923752, 0.03205351531505585, -0.03221445530653, 0.03394436091184616, -0.04297712817788124, 0.05399263650178909, -0.03909183293581009, 0.028071897104382515, -0.02469821274280548, -0.02331945113837719, 0.05760111287236214, 0.021016230806708336, 0.01861465536057949, 0.002711620880290866, 0.01821715757250786, -0.013626213185489178, 0.042831458151340485, -0.0566725954413414, -0.003294761525467038, -0.012453166767954826, -0.018353672698140144, 0.005298270378261805, -0.051090821623802185, -0.02038964442908764, -0.033553846180438995, 0.00020429439609870315, 0.001264773542061448, -0.09905488789081573, -0.016926327720284462, -0.05947214737534523, -0.0438857339322567, 0.03962771221995354, 0.017051106318831444, -0.01706056296825409, -0.009852581657469273, -0.0026880879886448383, -0.016600390896201134, -0.03571924939751625, -0.073463074862957, -0.05431361496448517, -0.03676634281873703, -0.05009951442480087, 0.02441154234111309, 0.07761535793542862, -0.004885983653366566, -0.01576264761388302, -8.661329775350168e-05, -0.01651059277355671, -0.03491661325097084, 0.03285376727581024, 0.020041024312376976, -0.024183234199881554, -0.05733611807227135, 0.03229881078004837, -0.0027456535026431084, 0.002217324683442712, -0.014157641679048538, -0.043703485280275345, 0.0702340304851532, 0.044508349150419235, 0.029270943254232407, 0.03546716272830963, 0.00922053400427103, -0.04320402443408966, -0.0065400139428675175, -0.022884897887706757, -0.06596359610557556, -0.03929802402853966, -0.011200439184904099, -0.028924981132149696, -0.025743931531906128, -0.06920851022005081, 0.005411095917224884, -0.03891853615641594, -0.0319889634847641, 0.007565129082649946, 0.06701941788196564, 0.03535205125808716, 0.0534590445458889, -0.0054908450692892075, -0.06469427049160004, 0.06739481538534164, -0.02179333008825779, 0.01122970785945654, -0.042856212705373764, -0.041785258799791336, 0.037798065692186356, -0.007334040477871895, 0.05347967892885208, -0.06916429847478867, 0.05458728224039078, 0.023191994056105614, -0.04134051501750946, -0.0036794953048229218, -0.011627539061009884, -0.025925926864147186, -0.017703203484416008, 0.031070491299033165, 0.020929133519530296, -0.04669897258281708, -0.03233868256211281, 0.03731254115700722, 0.047977298498153687, -0.016654137521982193, -0.023039216175675392, -0.041467443108558655, 0.014916316606104374, 0.049038905650377274, 0.01778479851782322, -0.009646572172641754, 0.027452945709228516, -0.06174006685614586, -0.01129841711372137, -0.03579265996813774, 0.025762459263205528, 0.02172728069126606, 0.011149048805236816, 0.037415675818920135, 0.03847559913992882, 0.029459267854690552, 0.043772827833890915, 0.02590363658964634, 0.04979896545410156, -0.01972796767950058, 0.0202669408172369, -0.021036606281995773, 0.03748765215277672, 0.015324140898883343, -0.034367308020591736, -0.08022432029247284, -0.11206124722957611, -0.028257213532924652, 0.029051141813397408, -0.004347166512161493, -0.01078791543841362, 0.019533801823854446, -0.030232446268200874, 0.009180393069982529, 0.032123539596796036, 0.009387318044900894, 0.011887040920555592, -0.016679678112268448, 0.04683902487158775, -0.008397075347602367, -0.0018205625237897038, -0.03510521352291107, -0.0029115364886820316, -0.034576985985040665, -0.02649282105267048, -0.026656057685613632, 0.07477670162916183, 0.03489792346954346, 0.01737326569855213, 0.056593675166368484, 0.03025311604142189, -0.013243496417999268, 0.02106255665421486, 0.040249284356832504, -0.0020299165043979883, -0.04471403732895851, -0.008544684387743473, 0.009878532029688358, 0.006762720178812742, 0.004178497474640608, -0.016763288527727127, 0.022585097700357437, 0.01489543542265892, 0.018032753840088844, 0.057769570499658585, 0.009071874432265759, -0.017107944935560226, -0.015903981402516365, -0.09508681297302246, 0.0029126841109246016, 0.012188476510345936, -0.015301849693059921, 0.005250708665698767, 0.03993566334247589, 0.030366579070687294, 0.05669333413243294, 0.030264561995863914, -0.013523481786251068, -0.06449980288743973, 0.056628983467817307, 0.014521082863211632, -0.021906793117523193, -0.055863700807094574, -0.034098658710718155, 0.03925902023911476, 0.042001139372587204, -0.014176440425217152, -0.10665266960859299, 0.03884221985936165, 0.042298655956983566, -0.035363901406526566, 0.021371087059378624, 0.023425830528140068, 0.045249246060848236, 0.021389681845903397, -0.015022090636193752, -0.002895991550758481, -0.022514186799526215, -0.03328867256641388, 0.019747884944081306, 0.04728013277053833, -0.03507030010223389, -0.022387245669960976, -0.06289099901914597, 0.007264276035130024, 0.03048047237098217, 0.034181464463472366, 0.008803470060229301, 0.006923776585608721, -0.021586166694760323, 0.0002274277649121359, 0.03545190766453743, -0.04087609052658081, -0.02454371564090252, 0.041354864835739136, 0.0456356480717659, -0.07077403366565704, -0.024151518940925598, 0.013916359283030033, -0.005287667270749807, 0.05371218919754028, -0.034620676189661026, -0.03129894658923149, -0.003999304957687855, -0.0035594908986240625, 0.03916250541806221, -0.035297561436891556, -0.07852386683225632, 0.026310011744499207, 0.0235909353941679, 0.03225286304950714, 0.054758183658123016, 0.028210878372192383, 0.033302389085292816, 0.076846182346344, -0.02164446748793125, -0.012613755650818348, -0.019913969561457634, 0.036033108830451965, -0.018801672384142876, -0.030728626996278763, -0.024397408589720726, -0.08331897854804993, -0.025597793981432915, -0.05674850568175316, -0.03423713892698288, -0.04246283695101738, -0.011070244945585728, 0.036517612636089325, -0.023691976442933083, -0.018788298591971397, 0.025264235213398933, 0.029634347185492516, -0.015884747728705406, -0.0317867174744606, -0.012138829566538334, -0.03212016448378563, -0.04901731759309769, -0.01801646500825882, 0.06376190483570099, -0.0037796057295054197, -0.0028337989933788776, 0.037582140415906906, 0.0482674203813076, 0.028726832941174507, 0.021160239353775978, -0.041884880512952805, -0.0026332191191613674, 0.01397700048983097, -0.05687490105628967, -0.04732145741581917, -0.0184544138610363, 0.026139095425605774, 0.027865096926689148, -0.0715336948633194, 0.05069039389491081, 0.010565526783466339, -0.018416544422507286, -0.05295269936323166, 0.02562619559466839, 0.019671719521284103, -0.022716393694281578, -0.03221707418560982, -0.0006890843505971134, 0.00038269086508080363, 0.02831135503947735, -0.015309866517782211, -0.004807435441762209, 0.010646097362041473, 0.01291421428322792, 0.026938099414110184, 0.0432269424200058, -0.03249829635024071, 0.050442103296518326, -0.002385584870353341, 0.014950760640203953, -0.04124535620212555, 0.01897517219185829, -0.028741436079144478, 0.0020591323263943195, -0.03835655003786087, 0.009152860380709171, -0.06613851338624954, 0.037772368639707565, -0.050410911440849304, -0.02076670341193676, -0.012217799201607704, 0.026679756119847298, -0.031603116542100906, 0.015267987735569477, -0.0034209203440696, -0.025452010333538055, -0.07171095907688141, 0.020925696939229965, -0.04676045477390289, -0.02341724932193756, -0.012530219741165638, 0.002577284350991249, -0.0493800975382328, -0.021078290417790413, -0.008390294387936592, -0.013094253838062286, 0.019816221669316292, 0.005569101311266422, 0.004432187881320715, 0.05875452980399132, 0.0010091356234624982, -0.006181361153721809, 0.019627809524536133, -0.05760308355093002, -0.022604212164878845, 0.011788083240389824, 0.00924538355320692, -0.013893023133277893, 0.040881961584091187, 0.059734657406806946, -0.013698122464120388, -0.05589766427874565, 0.040080469101667404, 0.03759424015879631, 0.004670178517699242, 0.008463428355753422, 0.015910204499959946, 0.054605498909950256, 0.019326208159327507, -0.04928574338555336, 0.019998325034976006, -0.017174916341900826, -0.037774939090013504, 0.008933685719966888, -0.009573904797434807, 0.020402176305651665, 0.01379923615604639, -0.03953560069203377, -0.03325439244508743, 0.0885438546538353, 0.0411323606967926, 0.012947125360369682, -0.042077455669641495, -0.041915200650691986, 0.024264805018901825, 0.003096070373430848, -0.01736682467162609, 0.019500700756907463, 0.005351376719772816, -0.037776220589876175, 0.06313794106245041, -0.020631471648812294, 0.01794983074069023, 0.0193270705640316, 0.029686210677027702, -0.009564897045493126, 0.026516294106841087, -0.05321481451392174, 0.009448460303246975, 0.03247243911027908, -0.033212482929229736, -0.03222323954105377, -0.0318274199962616, 0.04461652413010597, -0.0630485862493515, 0.05818653851747513, 0.021514173597097397, -0.04081770405173302, 0.009925385005772114, -0.03979792818427086, -0.03854953870177269, 0.03764167055487633, -0.02747381292283535, 0.03823148086667061, -0.03707592934370041, -0.056539732962846756, 0.016090264543890953, 0.015029490925371647, -0.05353539437055588, 0.038402870297431946, 0.018904805183410645, 0.014050339348614216, 0.02911255694925785, 0.04487436264753342, -0.03595231845974922, 0.0069257537834346294, -0.04816509038209915, -0.004527255892753601, -0.08526530116796494, -0.005608485545963049, -0.0012865413445979357, -0.03722818195819855, 0.024551577866077423, 0.027788624167442322, 0.0064031812362372875, 0.011446229182183743, 0.010666334070265293, -0.041070688515901566, -0.09448762983083725, 0.0004338335420470685, 0.027932817116379738, -0.00510717649012804, 0.03800896182656288, -0.04399906471371651, -0.004150284919887781, 0.0005217459402047098, -0.026871109381318092, -0.004548229277133942, 0.03353932499885559, -0.007202536799013615, -0.012437132187187672, -0.019657816737890244, 0.04899269714951515, -0.011085053905844688, 0.001007191021926701, 0.0028238205704838037, -0.014463379979133606, 0.02100774273276329, 0.020971326157450676, 0.02623920887708664, 0.005020818207412958, -0.06663423776626587, -0.019855428487062454, -0.0008775813621468842, -0.0002492724161129445, 0.02489570342004299, -0.027442961931228638, 0.026899095624685287, 0.07126222550868988, 0.03179322928190231, 0.014723437838256359, -0.04909554868936539, -0.03321187570691109, 0.020816093310713768, -0.041769254952669144, 0.017228689044713974, 0.004453057888895273, -0.017733076587319374, -0.04588603600859642, -0.0357980877161026, -0.005515553988516331, 0.03531891107559204, -0.04693922400474548, -0.014859466813504696, 0.016354206949472427, 0.04492340609431267, -0.04039555415511131, -0.04711461812257767, -0.033412519842386246, -0.04656819626688957, 0.0328434519469738, 0.00721762515604496, -0.023018240928649902, 0.02097008377313614, -0.04449637234210968, -0.040328796952962875, 0.010218098759651184, -0.03513777256011963, -0.06643396615982056, 0.0495016984641552, 0.044569820165634155, -0.02089407667517662, 0.004930966533720493, 0.003177036764100194, 0.010334353893995285, 0.007221919950097799, 0.03567391261458397, 0.016072867438197136, 0.03060310333967209, 0.046567123383283615, -0.021980896592140198, -0.01863201893866062, -0.024145448580384254, -0.050996117293834686, -0.015180754475295544, 0.011420238763093948, 0.05630079656839371]\n"
     ]
    }
   ],
   "source": [
    "print(e)"
   ]
  },
  {
   "cell_type": "code",
   "execution_count": 14,
   "metadata": {},
   "outputs": [
    {
     "data": {
      "text/plain": [
       "[-0.0025943743530660868,\n",
       " -0.009194064885377884,\n",
       " -0.0226585790514946,\n",
       " 0.004368053749203682,\n",
       " 0.061748843640089035]"
      ]
     },
     "execution_count": 14,
     "metadata": {},
     "output_type": "execute_result"
    }
   ],
   "source": [
    "e[:5]"
   ]
  },
  {
   "cell_type": "code",
   "execution_count": 16,
   "metadata": {},
   "outputs": [
    {
     "data": {
      "text/plain": [
       "list"
      ]
     },
     "execution_count": 16,
     "metadata": {},
     "output_type": "execute_result"
    }
   ],
   "source": [
    "type(e)"
   ]
  },
  {
   "cell_type": "code",
   "execution_count": 28,
   "metadata": {},
   "outputs": [],
   "source": [
    "from langchain.prompts import PromptTemplate\n",
    "\n",
    "prompt_template = \"\"\"Given the following context and a question, generate an answer based on this context only.\n",
    "In the answer try to provide as much text as possible from \"response\" section in the source document context without making much changes.\n",
    "If the answer is not found in the context, kindly state \"I don't know.\" Don't try to make up an answer.\n",
    "\n",
    "CONTEXT: {context}\n",
    "\n",
    "QUESTION: {question}\"\"\"\n",
    "\n",
    "PROMPT = PromptTemplate(\n",
    "    template=prompt_template, input_variables=['context', 'question']\n",
    ")"
   ]
  },
  {
   "cell_type": "code",
   "execution_count": 29,
   "metadata": {},
   "outputs": [],
   "source": [
    "from langchain.chains import RetrievalQA\n",
    "\n",
    "chain = RetrievalQA.from_chain_type(llm=llm,\n",
    "            chain_type='stuff',\n",
    "            retriever=retriever,\n",
    "            input_key='query',\n",
    "            return_source_documents=True,\n",
    "            chain_type_kwargs={'prompt': PROMPT}\n",
    "        )"
   ]
  },
  {
   "cell_type": "code",
   "execution_count": 31,
   "metadata": {},
   "outputs": [
    {
     "data": {
      "text/plain": [
       "{'query': \"What is Habeeb's work experience?\",\n",
       " 'result': 'Answer:  Habeeb Adekunle has diverse experience in backend development and machine learning. As a Freelance Backend Software Engineer, he led the development of a Project Management Software that integrated Kanban methodology, Gantt charts, and automated invoicing/budgeting, boosting software functionality by 30%. At NITDA IT Hub, he optimized a chat application for ISL Unilag, increasing user engagement by 15%. and reducing latency by 10%. He is also part of the NITDA IT Hub AI research team, where he collaborates on developing a food price prediction model for prices in Nigeria. During his internship at Intrapair, Habeeb was involved in the Flip Educational Assessment Platform, benefiting over 500 secondary school students. Currently, he holds the position of Backend Engineer and Machine Learning Engineer at Peerhub Ltd, a company based in Canada.',\n",
       " 'source_documents': [Document(metadata={'source': 'What is Habeeb work experience?', 'row': 2}, page_content='Question: What is Habeeb work experience?\\nAnswer: Habeeb Adekunle has diverse experience in backend development and machine learning. As a Freelance Backend Software Engineer, he led the development of a Project Management Software that integrated Kanban methodology, Gantt charts, and automated invoicing/budgeting, boosting software functionality by 30%. At NITDA IT Hub, he optimized a chat application for ISL Unilag, increasing user engagement by 15%. and reducing latency by 10%. He is also part of the NITDA IT Hub AI research team, where he collaborates on developing a food price prediction model for prices in Nigeria. During his internship at Intrapair, Habeeb was involved in the Flip Educational Assessment Platform, benefiting over 500 secondary school students. Currently, he holds the position of Backend Engineer and Machine Learning Engineer at Peerhub Ltd, a company based in Canada.'),\n",
       "  Document(metadata={'source': 'What is Habeeb educational background?', 'row': 1}, page_content='Question: What is Habeeb educational background?\\nAnswer: Habeeb Adekunle is currently pursuing his degree in Marine Science at the University of Lagos, Nigeria. He aims to leverage his knowledge of data science and machine learning to advance the field of marine science. Habeeb has already developed a temperature prediction app that forecasts the temperature of a city based on various factors. In the future, he aims to provide viable solutions to the problems of climate change with the help of AI.'),\n",
       "  Document(metadata={'source': 'What technologies are Habeeb proficient in?', 'row': 3}, page_content='Question: What technologies are Habeeb proficient in?\\nAnswer: Habeeb is proficient in several technologies, including HTML/CSS/JS for web development, Node.js/Express.js and NestJS for backend development, MongoDB, MySQL, and PostgreSQL for databases, Git/GitHub for version control, AWS and GCP for deployment. In the field of AI, he is skilled in Python and uses SQL, Pandas, Matplotlib, NumPy, and Seaborn for data analysis. For model building, he utilizes TensorFlow and Keras. Langchain, Huggingface, Streamlit, google palm and gpt models'),\n",
       "  Document(metadata={'source': 'Who is Habeeb Adekunle?', 'row': 0}, page_content='Question: Who is Habeeb Adekunle?\\nAnswer: Habeeb Adekunle is an AI engineer with 2 years of experience and expertise in backend development, data science, and machine learning. He is proficient in Python for data science and machine learning, as well as in JavaScript and TypeScript for backend development. Habeeb enjoys writing code and exploring various fields in the tech space. When not writing code, Habeeb engages in outdoor activities like swimming and playing football.')]}"
      ]
     },
     "execution_count": 31,
     "metadata": {},
     "output_type": "execute_result"
    }
   ],
   "source": [
    "chain(\"What is Habeeb's work experience?\")"
   ]
  },
  {
   "cell_type": "code",
   "execution_count": null,
   "metadata": {},
   "outputs": [],
   "source": []
  }
 ],
 "metadata": {
  "kernelspec": {
   "display_name": "Python 3 (ipykernel)",
   "language": "python",
   "name": "python3"
  },
  "language_info": {
   "codemirror_mode": {
    "name": "ipython",
    "version": 3
   },
   "file_extension": ".py",
   "mimetype": "text/x-python",
   "name": "python",
   "nbconvert_exporter": "python",
   "pygments_lexer": "ipython3",
   "version": "3.11.5"
  }
 },
 "nbformat": 4,
 "nbformat_minor": 4
}
